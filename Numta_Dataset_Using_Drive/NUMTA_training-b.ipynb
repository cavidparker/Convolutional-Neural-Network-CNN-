{
 "cells": [
  {
   "cell_type": "code",
   "execution_count": 40,
   "metadata": {
    "collapsed": true
   },
   "outputs": [],
   "source": [
    "import pandas as pd\n",
    "import os\n",
    "import cv2\n",
    "import numpy as np"
   ]
  },
  {
   "cell_type": "code",
   "execution_count": 41,
   "metadata": {},
   "outputs": [],
   "source": [
    "data = pd.read_csv('training-b.csv')"
   ]
  },
  {
   "cell_type": "code",
   "execution_count": 42,
   "metadata": {},
   "outputs": [
    {
     "data": {
      "text/html": [
       "<div>\n",
       "<style>\n",
       "    .dataframe thead tr:only-child th {\n",
       "        text-align: right;\n",
       "    }\n",
       "\n",
       "    .dataframe thead th {\n",
       "        text-align: left;\n",
       "    }\n",
       "\n",
       "    .dataframe tbody tr th {\n",
       "        vertical-align: top;\n",
       "    }\n",
       "</style>\n",
       "<table border=\"1\" class=\"dataframe\">\n",
       "  <thead>\n",
       "    <tr style=\"text-align: right;\">\n",
       "      <th></th>\n",
       "      <th>original filename</th>\n",
       "      <th>scanid</th>\n",
       "      <th>digit</th>\n",
       "      <th>num</th>\n",
       "      <th>database name original</th>\n",
       "      <th>database name</th>\n",
       "      <th>filename</th>\n",
       "    </tr>\n",
       "  </thead>\n",
       "  <tbody>\n",
       "    <tr>\n",
       "      <th>0</th>\n",
       "      <td>Scan_17_digit_1_num_3.png</td>\n",
       "      <td>17</td>\n",
       "      <td>1</td>\n",
       "      <td>3</td>\n",
       "      <td>DUISRT</td>\n",
       "      <td>training-d</td>\n",
       "      <td>d00000.png</td>\n",
       "    </tr>\n",
       "    <tr>\n",
       "      <th>1</th>\n",
       "      <td>Scan_112_digit_1_num_0.png</td>\n",
       "      <td>112</td>\n",
       "      <td>1</td>\n",
       "      <td>0</td>\n",
       "      <td>DUISRT</td>\n",
       "      <td>training-d</td>\n",
       "      <td>d00001.png</td>\n",
       "    </tr>\n",
       "    <tr>\n",
       "      <th>2</th>\n",
       "      <td>Scan_81_digit_5_num_8.png</td>\n",
       "      <td>81</td>\n",
       "      <td>5</td>\n",
       "      <td>8</td>\n",
       "      <td>DUISRT</td>\n",
       "      <td>training-d</td>\n",
       "      <td>d00002.png</td>\n",
       "    </tr>\n",
       "    <tr>\n",
       "      <th>3</th>\n",
       "      <td>Scan_5_digit_7_num_1.png</td>\n",
       "      <td>5</td>\n",
       "      <td>7</td>\n",
       "      <td>1</td>\n",
       "      <td>DUISRT</td>\n",
       "      <td>training-d</td>\n",
       "      <td>d00003.png</td>\n",
       "    </tr>\n",
       "    <tr>\n",
       "      <th>4</th>\n",
       "      <td>Scan_5_digit_0_num_6.png</td>\n",
       "      <td>5</td>\n",
       "      <td>0</td>\n",
       "      <td>6</td>\n",
       "      <td>DUISRT</td>\n",
       "      <td>training-d</td>\n",
       "      <td>d00004.png</td>\n",
       "    </tr>\n",
       "    <tr>\n",
       "      <th>5</th>\n",
       "      <td>Scan_44_digit_1_num_1.png</td>\n",
       "      <td>44</td>\n",
       "      <td>1</td>\n",
       "      <td>1</td>\n",
       "      <td>DUISRT</td>\n",
       "      <td>training-d</td>\n",
       "      <td>d00005.png</td>\n",
       "    </tr>\n",
       "    <tr>\n",
       "      <th>6</th>\n",
       "      <td>Scan_18_digit_0_num_7.png</td>\n",
       "      <td>18</td>\n",
       "      <td>0</td>\n",
       "      <td>7</td>\n",
       "      <td>DUISRT</td>\n",
       "      <td>training-d</td>\n",
       "      <td>d00006.png</td>\n",
       "    </tr>\n",
       "    <tr>\n",
       "      <th>7</th>\n",
       "      <td>Scan_61_digit_0_num_1.png</td>\n",
       "      <td>61</td>\n",
       "      <td>0</td>\n",
       "      <td>1</td>\n",
       "      <td>DUISRT</td>\n",
       "      <td>training-d</td>\n",
       "      <td>d00007.png</td>\n",
       "    </tr>\n",
       "    <tr>\n",
       "      <th>8</th>\n",
       "      <td>Scan_54_digit_3_num_2.png</td>\n",
       "      <td>54</td>\n",
       "      <td>3</td>\n",
       "      <td>2</td>\n",
       "      <td>DUISRT</td>\n",
       "      <td>training-d</td>\n",
       "      <td>d00008.png</td>\n",
       "    </tr>\n",
       "    <tr>\n",
       "      <th>9</th>\n",
       "      <td>Scan_58_digit_7_num_6.png</td>\n",
       "      <td>58</td>\n",
       "      <td>7</td>\n",
       "      <td>6</td>\n",
       "      <td>DUISRT</td>\n",
       "      <td>training-d</td>\n",
       "      <td>d00009.png</td>\n",
       "    </tr>\n",
       "  </tbody>\n",
       "</table>\n",
       "</div>"
      ],
      "text/plain": [
       "            original filename  scanid  digit  num database name original  \\\n",
       "0   Scan_17_digit_1_num_3.png      17      1    3                 DUISRT   \n",
       "1  Scan_112_digit_1_num_0.png     112      1    0                 DUISRT   \n",
       "2   Scan_81_digit_5_num_8.png      81      5    8                 DUISRT   \n",
       "3    Scan_5_digit_7_num_1.png       5      7    1                 DUISRT   \n",
       "4    Scan_5_digit_0_num_6.png       5      0    6                 DUISRT   \n",
       "5   Scan_44_digit_1_num_1.png      44      1    1                 DUISRT   \n",
       "6   Scan_18_digit_0_num_7.png      18      0    7                 DUISRT   \n",
       "7   Scan_61_digit_0_num_1.png      61      0    1                 DUISRT   \n",
       "8   Scan_54_digit_3_num_2.png      54      3    2                 DUISRT   \n",
       "9   Scan_58_digit_7_num_6.png      58      7    6                 DUISRT   \n",
       "\n",
       "  database name    filename  \n",
       "0    training-d  d00000.png  \n",
       "1    training-d  d00001.png  \n",
       "2    training-d  d00002.png  \n",
       "3    training-d  d00003.png  \n",
       "4    training-d  d00004.png  \n",
       "5    training-d  d00005.png  \n",
       "6    training-d  d00006.png  \n",
       "7    training-d  d00007.png  \n",
       "8    training-d  d00008.png  \n",
       "9    training-d  d00009.png  "
      ]
     },
     "execution_count": 42,
     "metadata": {},
     "output_type": "execute_result"
    }
   ],
   "source": [
    "data[:10]"
   ]
  },
  {
   "cell_type": "code",
   "execution_count": 43,
   "metadata": {},
   "outputs": [
    {
     "name": "stdout",
     "output_type": "stream",
     "text": [
      "<class 'pandas.core.frame.DataFrame'>\n"
     ]
    }
   ],
   "source": [
    "print(type(data))"
   ]
  },
  {
   "cell_type": "code",
   "execution_count": 44,
   "metadata": {
    "collapsed": true
   },
   "outputs": [],
   "source": [
    "names = data.iloc[:, 0].values\n",
    "digits = data.iloc[:, 3].values"
   ]
  },
  {
   "cell_type": "code",
   "execution_count": 45,
   "metadata": {},
   "outputs": [
    {
     "data": {
      "text/plain": [
       "array(['d00000.png', 'd00001.png', 'd00002.png', 'd00003.png',\n",
       "       'd00004.png', 'd00005.png', 'd00006.png', 'd00007.png',\n",
       "       'd00008.png', 'd00009.png'], dtype=object)"
      ]
     },
     "execution_count": 45,
     "metadata": {},
     "output_type": "execute_result"
    }
   ],
   "source": [
    "names[:10]"
   ]
  },
  {
   "cell_type": "code",
   "execution_count": 46,
   "metadata": {},
   "outputs": [
    {
     "name": "stdout",
     "output_type": "stream",
     "text": [
      "<class 'numpy.ndarray'>\n"
     ]
    }
   ],
   "source": [
    "print(type(names))"
   ]
  },
  {
   "cell_type": "code",
   "execution_count": 47,
   "metadata": {},
   "outputs": [
    {
     "data": {
      "text/plain": [
       "array([3, 0, 8, 1, 6, 1, 7, 1, 2, 6], dtype=int64)"
      ]
     },
     "execution_count": 47,
     "metadata": {},
     "output_type": "execute_result"
    }
   ],
   "source": [
    "digits[:10]"
   ]
  },
  {
   "cell_type": "code",
   "execution_count": 48,
   "metadata": {},
   "outputs": [
    {
     "data": {
      "text/plain": [
       "10908"
      ]
     },
     "execution_count": 48,
     "metadata": {},
     "output_type": "execute_result"
    }
   ],
   "source": [
    "len(names)"
   ]
  },
  {
   "cell_type": "code",
   "execution_count": 49,
   "metadata": {},
   "outputs": [
    {
     "data": {
      "text/plain": [
       "10908"
      ]
     },
     "execution_count": 49,
     "metadata": {},
     "output_type": "execute_result"
    }
   ],
   "source": [
    "len(digits)"
   ]
  },
  {
   "cell_type": "code",
   "execution_count": 50,
   "metadata": {
    "collapsed": true
   },
   "outputs": [],
   "source": [
    "x = []\n",
    "y = []"
   ]
  },
  {
   "cell_type": "code",
   "execution_count": 51,
   "metadata": {},
   "outputs": [],
   "source": [
    "for i in range(0, len(names)):\n",
    "    img = cv2.imread('./training-b/'+names[i],0)\n",
    "    img = cv2.resize(img,(32,32))\n",
    "    x.append(img)\n",
    "    y.append(digits[i])\n",
    "    \n",
    "    #print(img.shape)\n",
    "    #print(digits[i])\n",
    "    #print(i,'done')"
   ]
  },
  {
   "cell_type": "code",
   "execution_count": 55,
   "metadata": {},
   "outputs": [],
   "source": [
    "a = x[2]"
   ]
  },
  {
   "cell_type": "code",
   "execution_count": 56,
   "metadata": {},
   "outputs": [
    {
     "data": {
      "text/plain": [
       "<function destroyAllWindows>"
      ]
     },
     "execution_count": 56,
     "metadata": {},
     "output_type": "execute_result"
    }
   ],
   "source": [
    "cv2.imshow('image', a)\n",
    "cv2.waitKey(0)\n",
    "cv2.destroyAllWindows"
   ]
  },
  {
   "cell_type": "code",
   "execution_count": 57,
   "metadata": {},
   "outputs": [
    {
     "data": {
      "text/plain": [
       "list"
      ]
     },
     "execution_count": 57,
     "metadata": {},
     "output_type": "execute_result"
    }
   ],
   "source": [
    "type(x)"
   ]
  },
  {
   "cell_type": "code",
   "execution_count": 58,
   "metadata": {},
   "outputs": [
    {
     "data": {
      "text/plain": [
       "list"
      ]
     },
     "execution_count": 58,
     "metadata": {},
     "output_type": "execute_result"
    }
   ],
   "source": [
    "type(y)"
   ]
  },
  {
   "cell_type": "code",
   "execution_count": 59,
   "metadata": {},
   "outputs": [
    {
     "data": {
      "text/plain": [
       "[array([[244, 243, 244, ..., 243, 240, 246],\n",
       "        [242, 243, 244, ..., 244, 245, 242],\n",
       "        [244, 240, 244, ..., 243, 242, 245],\n",
       "        ...,\n",
       "        [239, 236, 241, ..., 241, 238, 240],\n",
       "        [239, 238, 239, ..., 239, 238, 241],\n",
       "        [238, 240, 239, ..., 242, 240, 241]], dtype=uint8),\n",
       " array([[240, 243, 242, ..., 244, 240, 241],\n",
       "        [241, 243, 241, ..., 243, 245, 245],\n",
       "        [241, 242, 240, ..., 244, 241, 243],\n",
       "        ...,\n",
       "        [240, 241, 238, ..., 238, 241, 243],\n",
       "        [240, 239, 241, ..., 243, 242, 242],\n",
       "        [242, 242, 239, ..., 245, 246, 243]], dtype=uint8),\n",
       " array([[236, 237, 238, ..., 239, 237, 239],\n",
       "        [239, 239, 236, ..., 237, 241, 239],\n",
       "        [236, 237, 240, ..., 241, 243, 241],\n",
       "        ...,\n",
       "        [233, 230, 233, ..., 239, 240, 239],\n",
       "        [235, 235, 236, ..., 235, 242, 240],\n",
       "        [229, 234, 232, ..., 241, 238, 237]], dtype=uint8),\n",
       " array([[241, 238, 243, ..., 243, 244, 244],\n",
       "        [244, 241, 241, ..., 245, 240, 243],\n",
       "        [242, 241, 244, ..., 244, 245, 243],\n",
       "        ...,\n",
       "        [244, 238, 243, ..., 240, 240, 244],\n",
       "        [242, 245, 242, ..., 239, 244, 243],\n",
       "        [241, 242, 242, ..., 243, 243, 243]], dtype=uint8),\n",
       " array([[243, 244, 244, ..., 239, 240, 242],\n",
       "        [243, 245, 242, ..., 243, 244, 239],\n",
       "        [245, 245, 244, ..., 243, 242, 242],\n",
       "        ...,\n",
       "        [243, 244, 245, ..., 241, 241, 241],\n",
       "        [244, 243, 240, ..., 244, 242, 237],\n",
       "        [243, 243, 244, ..., 241, 241, 244]], dtype=uint8)]"
      ]
     },
     "execution_count": 59,
     "metadata": {},
     "output_type": "execute_result"
    }
   ],
   "source": [
    "x[:5]"
   ]
  },
  {
   "cell_type": "code",
   "execution_count": 60,
   "metadata": {
    "collapsed": true
   },
   "outputs": [],
   "source": [
    "x= np.array(x)"
   ]
  },
  {
   "cell_type": "code",
   "execution_count": 61,
   "metadata": {},
   "outputs": [
    {
     "data": {
      "text/plain": [
       "numpy.ndarray"
      ]
     },
     "execution_count": 61,
     "metadata": {},
     "output_type": "execute_result"
    }
   ],
   "source": [
    "type(x)"
   ]
  },
  {
   "cell_type": "code",
   "execution_count": 62,
   "metadata": {},
   "outputs": [
    {
     "data": {
      "text/plain": [
       "[3, 0, 8, 1, 6, 1, 7, 1, 2, 6]"
      ]
     },
     "execution_count": 62,
     "metadata": {},
     "output_type": "execute_result"
    }
   ],
   "source": [
    "y[:10]"
   ]
  },
  {
   "cell_type": "code",
   "execution_count": 63,
   "metadata": {},
   "outputs": [
    {
     "data": {
      "text/plain": [
       "list"
      ]
     },
     "execution_count": 63,
     "metadata": {},
     "output_type": "execute_result"
    }
   ],
   "source": [
    "type(y)"
   ]
  },
  {
   "cell_type": "code",
   "execution_count": 64,
   "metadata": {
    "collapsed": true
   },
   "outputs": [],
   "source": [
    "y= np.array(y)"
   ]
  },
  {
   "cell_type": "code",
   "execution_count": 65,
   "metadata": {},
   "outputs": [
    {
     "data": {
      "text/plain": [
       "array([3, 0, 8, 1, 6, 1, 7, 1, 2, 6], dtype=int64)"
      ]
     },
     "execution_count": 65,
     "metadata": {},
     "output_type": "execute_result"
    }
   ],
   "source": [
    "y[:10]"
   ]
  },
  {
   "cell_type": "code",
   "execution_count": 66,
   "metadata": {
    "collapsed": true
   },
   "outputs": [],
   "source": [
    "np.save('training-b_Numta_x.npy', x)\n",
    "np.save('training-d_Numta_y.npy', y)"
   ]
  },
  {
   "cell_type": "code",
   "execution_count": null,
   "metadata": {
    "collapsed": true
   },
   "outputs": [],
   "source": []
  }
 ],
 "metadata": {
  "kernelspec": {
   "display_name": "Python 3",
   "language": "python",
   "name": "python3"
  },
  "language_info": {
   "codemirror_mode": {
    "name": "ipython",
    "version": 3
   },
   "file_extension": ".py",
   "mimetype": "text/x-python",
   "name": "python",
   "nbconvert_exporter": "python",
   "pygments_lexer": "ipython3",
   "version": "3.6.2"
  }
 },
 "nbformat": 4,
 "nbformat_minor": 2
}
