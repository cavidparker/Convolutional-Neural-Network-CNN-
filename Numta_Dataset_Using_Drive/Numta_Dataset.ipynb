{
  "nbformat": 4,
  "nbformat_minor": 0,
  "metadata": {
    "colab": {
      "name": "Numta Dataset.ipynb",
      "version": "0.3.2",
      "provenance": [],
      "collapsed_sections": []
    },
    "kernelspec": {
      "name": "python3",
      "display_name": "Python 3"
    },
    "accelerator": "GPU"
  },
  "cells": [
    {
      "cell_type": "code",
      "metadata": {
        "id": "PEacQ8vABs20",
        "colab_type": "code",
        "colab": {}
      },
      "source": [
        "import json\n",
        "from pprint import pprint\n",
        "from google.colab import auth\n",
        "from googleapiclient.discovery import build\n",
        "import io\n",
        "from googleapiclient.http import MediaIoBaseDownload\n",
        "import pickle"
      ],
      "execution_count": 0,
      "outputs": []
    },
    {
      "cell_type": "code",
      "metadata": {
        "id": "srezNG3UCK2J",
        "colab_type": "code",
        "colab": {}
      },
      "source": [
        "auth.authenticate_user()\n",
        "drive_service = build('drive', 'v3')"
      ],
      "execution_count": 0,
      "outputs": []
    },
    {
      "cell_type": "code",
      "metadata": {
        "id": "5x37KFWICwBO",
        "colab_type": "code",
        "colab": {}
      },
      "source": [
        "def _create_file_request(file_id):\n",
        "    return drive_service.files().get_media(fileId=file_id)\n",
        "\n",
        "def _download_response_bytes(request, print_progress=False):\n",
        "    downloaded = io.BytesIO()\n",
        "    downloader = MediaIoBaseDownload(downloaded, request)\n",
        "   \n",
        "    for status in _progbar(downloader):\n",
        "        if print_progress:\n",
        "            print(\"Downloaded {}/{} bytes\".format(status.resumable_progress, status.total_size))\n",
        " \n",
        "    downloaded.seek(0)\n",
        "    return downloaded.read()\n",
        " \n",
        " \n",
        "def _progbar(downloader):\n",
        "    done = False\n",
        "    while done is False:\n",
        "        status, done = downloader.next_chunk()\n",
        "        yield status\n",
        " \n",
        " \n",
        "def get_file_id(name):\n",
        "    return get_matching_files(name)[0]['id']\n",
        " \n",
        " \n",
        "def move_from_drive_to_disk(file_names, file_destinations):\n",
        "    for file_name, dest in zip(file_names, file_destinations):\n",
        "        file_id = get_file_id(file_name)\n",
        "        print('Downloading file: \"{}\"'.format(file_name))\n",
        "        file_bytes = _download_response_bytes(_create_file_request(file_id), print_progress=True)\n",
        "        with open(dest, \"wb\") as f:\n",
        "            f.write(file_bytes)\n",
        " \n",
        " \n",
        "def load_pickled_files(file_names):\n",
        "    for name in file_names:\n",
        "        yield pickle.load(open(name, \"rb\"))\n",
        "       \n",
        " \n",
        "def get_matching_files(name):\n",
        "    drive_files_response = _download_response_bytes(drive_service.files().list())\n",
        "    drive_files_response_dict = json.loads(\n",
        "        drive_files_response.decode('utf-8')\n",
        "    )\n",
        "    drive_files_dict = drive_files_response_dict['files']\n",
        " \n",
        "    matching_records = [\n",
        "        record\n",
        "        for record in drive_files_dict\n",
        "        if record['name'] == name\n",
        "    ]\n",
        " \n",
        "    no_records = len(matching_records)\n",
        "    if no_records == 0:\n",
        "        raise ValueError('no such file: \"{}\" on your Google Drive'.format(name))\n",
        "    elif no_records > 1:\n",
        "        print('warning: multiple matches for file \"{}\"'.format(name))\n",
        "    return matching_records"
      ],
      "execution_count": 0,
      "outputs": []
    },
    {
      "cell_type": "code",
      "metadata": {
        "id": "feOqfNOXDAFP",
        "colab_type": "code",
        "outputId": "10396ad9-a202-4ef8-a3f9-87f1bbe85d13",
        "colab": {
          "base_uri": "https://localhost:8080/",
          "height": 85
        }
      },
      "source": [
        "example_file_name = 'all64_x.npy'\n",
        "example_file_id = get_file_id(example_file_name)\n",
        " \n",
        "move_from_drive_to_disk([example_file_name], [example_file_name])"
      ],
      "execution_count": 0,
      "outputs": [
        {
          "output_type": "stream",
          "text": [
            "Downloading file: \"all64_x.npy\"\n",
            "Downloaded 104857601/295096448 bytes\n",
            "Downloaded 209715202/295096448 bytes\n",
            "Downloaded 295096448/295096448 bytes\n"
          ],
          "name": "stdout"
        }
      ]
    },
    {
      "cell_type": "code",
      "metadata": {
        "id": "A9v2M2YCEFBX",
        "colab_type": "code",
        "outputId": "743d417e-4d8c-45b8-bac6-968d997c9851",
        "colab": {
          "base_uri": "https://localhost:8080/",
          "height": 51
        }
      },
      "source": [
        "example_file_name = 'all64_y.npy'\n",
        "example_file_id = get_file_id(example_file_name)\n",
        " \n",
        "move_from_drive_to_disk([example_file_name], [example_file_name])"
      ],
      "execution_count": 0,
      "outputs": [
        {
          "output_type": "stream",
          "text": [
            "Downloading file: \"all64_y.npy\"\n",
            "Downloaded 2881928/2881928 bytes\n"
          ],
          "name": "stdout"
        }
      ]
    },
    {
      "cell_type": "code",
      "metadata": {
        "id": "TwcIrGzmEX8S",
        "colab_type": "code",
        "outputId": "b2b49c44-4d6e-4af7-9146-2f45a13594d2",
        "colab": {
          "base_uri": "https://localhost:8080/",
          "height": 136
        }
      },
      "source": [
        "import os\n",
        "os.listdir()"
      ],
      "execution_count": 0,
      "outputs": [
        {
          "output_type": "execute_result",
          "data": {
            "text/plain": [
              "['.config',\n",
              " 'all64_x.npy',\n",
              " 'all_y_M.npy',\n",
              " 'all64_y.npy',\n",
              " 'adc.json',\n",
              " 'all_x_M.npy',\n",
              " 'sample_data']"
            ]
          },
          "metadata": {
            "tags": []
          },
          "execution_count": 6
        }
      ]
    },
    {
      "cell_type": "code",
      "metadata": {
        "id": "Nyyy9cc-EbmZ",
        "colab_type": "code",
        "colab": {}
      },
      "source": [
        "import numpy as np\n",
        "import keras\n",
        "from keras.layers import Dense, Conv2D, MaxPool2D,Flatten, MaxPooling2D,Dropout\n",
        "from keras.models import Sequential\n",
        "from sklearn.model_selection import train_test_split\n",
        "#from keras import optimizers\n",
        "from keras.optimizers import SGD"
      ],
      "execution_count": 0,
      "outputs": []
    },
    {
      "cell_type": "code",
      "metadata": {
        "id": "r6_ZWyrUFoZ4",
        "colab_type": "code",
        "outputId": "8f6def19-e980-4d36-9734-7aba97dd18bc",
        "colab": {
          "base_uri": "https://localhost:8080/",
          "height": 51
        }
      },
      "source": [
        "x = np.load('all64_x.npy')\n",
        "y = np.load('all64_y.npy')\n",
        "print(x.shape, 'x')\n",
        "print(y.shape, 'y')"
      ],
      "execution_count": 0,
      "outputs": [
        {
          "output_type": "stream",
          "text": [
            "(72045, 64, 64) x\n",
            "(72045, 10) y\n"
          ],
          "name": "stdout"
        }
      ]
    },
    {
      "cell_type": "code",
      "metadata": {
        "id": "Mb8gryh4HvSZ",
        "colab_type": "code",
        "outputId": "fa83f92e-e726-43b4-d9fd-c119459872de",
        "colab": {
          "base_uri": "https://localhost:8080/",
          "height": 34
        }
      },
      "source": [
        "x = np.expand_dims(x, axis = 3)\n",
        "x.shape"
      ],
      "execution_count": 0,
      "outputs": [
        {
          "output_type": "execute_result",
          "data": {
            "text/plain": [
              "(72045, 64, 64, 1)"
            ]
          },
          "metadata": {
            "tags": []
          },
          "execution_count": 12
        }
      ]
    },
    {
      "cell_type": "code",
      "metadata": {
        "id": "ALKAwpkteCeA",
        "colab_type": "code",
        "colab": {}
      },
      "source": [
        "x = x/255.0"
      ],
      "execution_count": 0,
      "outputs": []
    },
    {
      "cell_type": "code",
      "metadata": {
        "id": "lYVxovAPF6hd",
        "colab_type": "code",
        "outputId": "d3202449-f8d2-42a4-a51d-5ccbce0e4d1a",
        "colab": {
          "base_uri": "https://localhost:8080/",
          "height": 275
        }
      },
      "source": [
        "model = Sequential()\n",
        "model.add(Conv2D(32, (5, 5), input_shape=(64,64,1), padding='same', activation='relu')) # 5 by 5 and add 32 kernel\n",
        "model.add(Conv2D(32, (3, 3), input_shape=(64,64,1), padding='same', activation='relu'))\n",
        "model.add(MaxPooling2D((2,2), strides=(2,2)))\n",
        " \n",
        "model.add(Conv2D(64, (3, 3),  padding='same', activation='relu'))\n",
        "model.add(Conv2D(64, (3, 3),  padding='same', activation='relu'))\n",
        "model.add(MaxPooling2D((2,2), strides=(2,2)))\n",
        " \n",
        " \n",
        "model.add(Conv2D(128, (3,3),  padding='same', activation='relu'))\n",
        "model.add(Conv2D(128, (3,3),  padding='same', activation='relu'))\n",
        "model.add(MaxPooling2D((2,2), strides=(2,2)))\n",
        " \n",
        "model.add(Conv2D(256, (3,3),  padding='same', activation='relu'))\n",
        "model.add(Conv2D(256, (3,3),  padding='same', activation='relu'))\n",
        "model.add(Conv2D(256, (3,3),  padding='same', activation='relu'))\n",
        "model.add(MaxPooling2D((2,2), strides=(2,2)))\n",
        " \n",
        "model.add(Flatten())\n",
        "model.add(Dense(64, activation='relu'))\n",
        "model.add(Dropout(0.2))\n",
        "model.add(Dense(10, activation='softmax'))"
      ],
      "execution_count": 0,
      "outputs": [
        {
          "output_type": "stream",
          "text": [
            "WARNING: Logging before flag parsing goes to stderr.\n",
            "W0627 10:09:06.379830 140211989628800 deprecation_wrapper.py:119] From /usr/local/lib/python3.6/dist-packages/keras/backend/tensorflow_backend.py:74: The name tf.get_default_graph is deprecated. Please use tf.compat.v1.get_default_graph instead.\n",
            "\n",
            "W0627 10:09:06.396154 140211989628800 deprecation_wrapper.py:119] From /usr/local/lib/python3.6/dist-packages/keras/backend/tensorflow_backend.py:517: The name tf.placeholder is deprecated. Please use tf.compat.v1.placeholder instead.\n",
            "\n",
            "W0627 10:09:06.399072 140211989628800 deprecation_wrapper.py:119] From /usr/local/lib/python3.6/dist-packages/keras/backend/tensorflow_backend.py:4138: The name tf.random_uniform is deprecated. Please use tf.random.uniform instead.\n",
            "\n",
            "W0627 10:09:06.428643 140211989628800 deprecation_wrapper.py:119] From /usr/local/lib/python3.6/dist-packages/keras/backend/tensorflow_backend.py:3976: The name tf.nn.max_pool is deprecated. Please use tf.nn.max_pool2d instead.\n",
            "\n",
            "W0627 10:09:06.536107 140211989628800 deprecation_wrapper.py:119] From /usr/local/lib/python3.6/dist-packages/keras/backend/tensorflow_backend.py:133: The name tf.placeholder_with_default is deprecated. Please use tf.compat.v1.placeholder_with_default instead.\n",
            "\n",
            "W0627 10:09:06.546064 140211989628800 deprecation.py:506] From /usr/local/lib/python3.6/dist-packages/keras/backend/tensorflow_backend.py:3445: calling dropout (from tensorflow.python.ops.nn_ops) with keep_prob is deprecated and will be removed in a future version.\n",
            "Instructions for updating:\n",
            "Please use `rate` instead of `keep_prob`. Rate should be set to `rate = 1 - keep_prob`.\n"
          ],
          "name": "stderr"
        }
      ]
    },
    {
      "cell_type": "code",
      "metadata": {
        "id": "eq9oyQKrGYTQ",
        "colab_type": "code",
        "outputId": "2224a242-3117-47b0-dd70-6ab282cd726e",
        "colab": {
          "base_uri": "https://localhost:8080/",
          "height": 714
        }
      },
      "source": [
        "model.summary()"
      ],
      "execution_count": 0,
      "outputs": [
        {
          "output_type": "stream",
          "text": [
            "_________________________________________________________________\n",
            "Layer (type)                 Output Shape              Param #   \n",
            "=================================================================\n",
            "conv2d_1 (Conv2D)            (None, 64, 64, 32)        832       \n",
            "_________________________________________________________________\n",
            "conv2d_2 (Conv2D)            (None, 64, 64, 32)        9248      \n",
            "_________________________________________________________________\n",
            "max_pooling2d_1 (MaxPooling2 (None, 32, 32, 32)        0         \n",
            "_________________________________________________________________\n",
            "conv2d_3 (Conv2D)            (None, 32, 32, 64)        18496     \n",
            "_________________________________________________________________\n",
            "conv2d_4 (Conv2D)            (None, 32, 32, 64)        36928     \n",
            "_________________________________________________________________\n",
            "max_pooling2d_2 (MaxPooling2 (None, 16, 16, 64)        0         \n",
            "_________________________________________________________________\n",
            "conv2d_5 (Conv2D)            (None, 16, 16, 128)       73856     \n",
            "_________________________________________________________________\n",
            "conv2d_6 (Conv2D)            (None, 16, 16, 128)       147584    \n",
            "_________________________________________________________________\n",
            "max_pooling2d_3 (MaxPooling2 (None, 8, 8, 128)         0         \n",
            "_________________________________________________________________\n",
            "conv2d_7 (Conv2D)            (None, 8, 8, 256)         295168    \n",
            "_________________________________________________________________\n",
            "conv2d_8 (Conv2D)            (None, 8, 8, 256)         590080    \n",
            "_________________________________________________________________\n",
            "conv2d_9 (Conv2D)            (None, 8, 8, 256)         590080    \n",
            "_________________________________________________________________\n",
            "max_pooling2d_4 (MaxPooling2 (None, 4, 4, 256)         0         \n",
            "_________________________________________________________________\n",
            "flatten_1 (Flatten)          (None, 4096)              0         \n",
            "_________________________________________________________________\n",
            "dense_1 (Dense)              (None, 64)                262208    \n",
            "_________________________________________________________________\n",
            "dropout_1 (Dropout)          (None, 64)                0         \n",
            "_________________________________________________________________\n",
            "dense_2 (Dense)              (None, 10)                650       \n",
            "=================================================================\n",
            "Total params: 2,025,130\n",
            "Trainable params: 2,025,130\n",
            "Non-trainable params: 0\n",
            "_________________________________________________________________\n"
          ],
          "name": "stdout"
        }
      ]
    },
    {
      "cell_type": "code",
      "metadata": {
        "id": "PnfxtsT6ZQtT",
        "colab_type": "code",
        "colab": {}
      },
      "source": [
        "sgd = SGD(lr = 0.00001, decay = 1e-6, momentum = 0.9, nesterov= True)"
      ],
      "execution_count": 0,
      "outputs": []
    },
    {
      "cell_type": "code",
      "metadata": {
        "id": "yPyEIStNGiX3",
        "colab_type": "code",
        "outputId": "7ccabc54-e53b-4f72-d87f-f0c9a18ccde6",
        "colab": {
          "base_uri": "https://localhost:8080/",
          "height": 105
        }
      },
      "source": [
        "model.compile(optimizer = sgd, loss = 'categorical_crossentropy', metrics = ['accuracy'])"
      ],
      "execution_count": 0,
      "outputs": [
        {
          "output_type": "stream",
          "text": [
            "W0627 10:16:24.698122 140211989628800 deprecation_wrapper.py:119] From /usr/local/lib/python3.6/dist-packages/keras/optimizers.py:790: The name tf.train.Optimizer is deprecated. Please use tf.compat.v1.train.Optimizer instead.\n",
            "\n",
            "W0627 10:16:24.712626 140211989628800 deprecation_wrapper.py:119] From /usr/local/lib/python3.6/dist-packages/keras/backend/tensorflow_backend.py:3295: The name tf.log is deprecated. Please use tf.math.log instead.\n",
            "\n"
          ],
          "name": "stderr"
        }
      ]
    },
    {
      "cell_type": "code",
      "metadata": {
        "id": "1OyYfNFuIYGX",
        "colab_type": "code",
        "colab": {}
      },
      "source": [
        "X_train, X_test, y_train, y_test = train_test_split(x, y, test_size = 0.20, random_state = 42)"
      ],
      "execution_count": 0,
      "outputs": []
    },
    {
      "cell_type": "code",
      "metadata": {
        "id": "UZKwL5gYHiLJ",
        "colab_type": "code",
        "outputId": "0b3f6004-cf01-4cdb-baa2-ad0ecdf0f5f3",
        "colab": {
          "base_uri": "https://localhost:8080/",
          "height": 170
        }
      },
      "source": [
        "H = model.fit(X_train, y_train, validation_data = (X_test, y_test), epochs = 4)"
      ],
      "execution_count": 0,
      "outputs": [
        {
          "output_type": "stream",
          "text": [
            "Train on 57636 samples, validate on 14409 samples\n",
            "Epoch 1/4\n",
            "57636/57636 [==============================] - 32s 550us/step - loss: 0.2553 - acc: 0.9181 - val_loss: 0.2315 - val_acc: 0.9291\n",
            "Epoch 2/4\n",
            "57636/57636 [==============================] - 31s 540us/step - loss: 0.2397 - acc: 0.9228 - val_loss: 0.2011 - val_acc: 0.9393\n",
            "Epoch 3/4\n",
            "57636/57636 [==============================] - 31s 538us/step - loss: 0.2287 - acc: 0.9275 - val_loss: 0.1930 - val_acc: 0.9389\n",
            "Epoch 4/4\n",
            "57636/57636 [==============================] - 31s 540us/step - loss: 0.2180 - acc: 0.9309 - val_loss: 0.1957 - val_acc: 0.9395\n"
          ],
          "name": "stdout"
        }
      ]
    },
    {
      "cell_type": "code",
      "metadata": {
        "id": "MUoqenQ1htZD",
        "colab_type": "code",
        "colab": {}
      },
      "source": [
        "import matplotlib.pyplot as plt"
      ],
      "execution_count": 0,
      "outputs": []
    },
    {
      "cell_type": "code",
      "metadata": {
        "id": "IHvSE0RdhS4j",
        "colab_type": "code",
        "colab": {}
      },
      "source": [
        "history = H"
      ],
      "execution_count": 0,
      "outputs": []
    },
    {
      "cell_type": "code",
      "metadata": {
        "id": "uTib8a9siCnJ",
        "colab_type": "code",
        "outputId": "5f239d8a-267b-41e5-8034-c9379f67c543",
        "colab": {
          "base_uri": "https://localhost:8080/",
          "height": 295
        }
      },
      "source": [
        "plt.plot(history.history['acc'])\n",
        "plt.plot(history.history['val_acc'])\n",
        "plt.title('Model accuracy')\n",
        "plt.ylabel('Accuracy')\n",
        "plt.xlabel('Epoch')\n",
        "plt.legend(['Train', 'Test'], loc='upper left')\n",
        "plt.show()"
      ],
      "execution_count": 0,
      "outputs": [
        {
          "output_type": "display_data",
          "data": {
            "image/png": "[encoded data removed]",
            "text/plain": [
              "<Figure size 432x288 with 1 Axes>"
            ]
          },
          "metadata": {
            "tags": []
          }
        }
      ]
    },
    {
      "cell_type": "code",
      "metadata": {
        "id": "iBIsHcYikCLf",
        "colab_type": "code",
        "outputId": "c0d76f7b-0e96-4ea6-f731-11748d0ec491",
        "colab": {
          "base_uri": "https://localhost:8080/",
          "height": 295
        }
      },
      "source": [
        "plt.plot(history.history['loss'])\n",
        "plt.plot(history.history['val_loss'])\n",
        "plt.title('Model loss')\n",
        "plt.ylabel('Loss')\n",
        "plt.xlabel('Epoch')\n",
        "plt.legend(['Train', 'Test'], loc='upper left')\n",
        "plt.show()"
      ],
      "execution_count": 0,
      "outputs": [
        {
          "output_type": "display_data",
          "data": {
            "image/png": "[encoded data removed]",
            "text/plain": [
              "<Figure size 432x288 with 1 Axes>"
            ]
          },
          "metadata": {
            "tags": []
          }
        }
      ]
    },
    {
      "cell_type": "code",
      "metadata": {
        "id": "HTR71I6-J1d6",
        "colab_type": "code",
        "outputId": "04e2dfeb-ac2e-4e62-fbd6-bb4f7e6e49ca",
        "colab": {
          "base_uri": "https://localhost:8080/",
          "height": 34
        }
      },
      "source": [
        "y_train.shape\n"
      ],
      "execution_count": 0,
      "outputs": [
        {
          "output_type": "execute_result",
          "data": {
            "text/plain": [
              "(57636, 10)"
            ]
          },
          "metadata": {
            "tags": []
          },
          "execution_count": 20
        }
      ]
    },
    {
      "cell_type": "code",
      "metadata": {
        "id": "vtEzcJQAPxRV",
        "colab_type": "code",
        "colab": {}
      },
      "source": [
        ""
      ],
      "execution_count": 0,
      "outputs": []
    }
  ]
}